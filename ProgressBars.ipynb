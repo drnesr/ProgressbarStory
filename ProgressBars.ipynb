{
 "cells": [
  {
   "cell_type": "code",
   "execution_count": 37,
   "metadata": {
    "ExecuteTime": {
     "end_time": "2019-04-29T12:10:21.103107Z",
     "start_time": "2019-04-29T12:10:21.097123Z"
    }
   },
   "outputs": [],
   "source": [
    "from time import sleep\n",
    "from ipywidgets import FloatProgress\n",
    "from tqdm import tnrange, tqdm_notebook\n",
    "from IPython.display import display, clear_output\n",
    "from matplotlib import pyplot as plt\n",
    "%matplotlib inline"
   ]
  },
  {
   "cell_type": "code",
   "execution_count": 12,
   "metadata": {
    "ExecuteTime": {
     "end_time": "2019-04-29T11:50:20.902615Z",
     "start_time": "2019-04-29T11:50:20.898626Z"
    }
   },
   "outputs": [
    {
     "data": {
      "text/plain": [
       "'∎'"
      ]
     },
     "execution_count": 12,
     "metadata": {},
     "output_type": "execute_result"
    }
   ],
   "source": [
    "chr(8718)"
   ]
  },
  {
   "cell_type": "code",
   "execution_count": 24,
   "metadata": {
    "ExecuteTime": {
     "end_time": "2019-04-29T12:00:25.423004Z",
     "start_time": "2019-04-29T12:00:25.416022Z"
    }
   },
   "outputs": [
    {
     "data": {
      "text/plain": [
       "[('░', 9617),\n",
       " ('∎', 8718),\n",
       " ('▒', 9618),\n",
       " ('▓', 9619),\n",
       " ('█', 9608),\n",
       " ('□', 9633),\n",
       " ('■', 9632),\n",
       " ('▬', 9644),\n",
       " ('▭', 9645),\n",
       " ('▮', 9646),\n",
       " ('▯', 9647),\n",
       " ('⬛', 11035),\n",
       " ('⬜', 11036)]"
      ]
     },
     "execution_count": 24,
     "metadata": {},
     "output_type": "execute_result"
    }
   ],
   "source": [
    "[(x, ord(x))\n",
    " for x in ('░', '∎', '▒', '▓', '█', '□', '■', '▬', '▭', '▮', '▯', '⬛', '⬜')]"
   ]
  },
  {
   "cell_type": "code",
   "execution_count": 31,
   "metadata": {
    "ExecuteTime": {
     "end_time": "2019-04-29T12:05:51.286882Z",
     "start_time": "2019-04-29T12:05:51.281895Z"
    }
   },
   "outputs": [
    {
     "name": "stdout",
     "output_type": "stream",
     "text": [
      "■■■■■■■■■■□□□□□□□□□□□□□□□□□□□□□□□□□□□□□□□□□□□□□□□□ 20%\n"
     ]
    }
   ],
   "source": [
    "empty, full = chr(9647), chr(9646)\n",
    "empty, full = chr(9617), chr(9608)\n",
    "empty, full = chr(9633), chr(9632)\n",
    "# empty, full = chr(11036), chr(11035)\n",
    "\n",
    "print(full *10 + empty*40 +' 20%')"
   ]
  },
  {
   "cell_type": "code",
   "execution_count": 43,
   "metadata": {
    "ExecuteTime": {
     "end_time": "2019-04-29T12:12:53.411574Z",
     "start_time": "2019-04-29T12:12:52.206775Z"
    }
   },
   "outputs": [
    {
     "data": {
      "text/plain": [
       "'■■■■■■■■■■■■■■■■■■■■■■■■■■■■■■■■■■■■■■■■■■■■■■■■■■■ 100%'"
      ]
     },
     "metadata": {},
     "output_type": "display_data"
    }
   ],
   "source": [
    "progress_max = 50 \n",
    "operation_max = 100\n",
    "for i in range(operation_max+1):\n",
    "    progress = int(i*progress_max/operation_max)+1\n",
    "    display(full*progress + empty * (progress_max-progress) + f' {i}%')\n",
    "    sleep(0.01)\n",
    "    clear_output(wait=True)"
   ]
  },
  {
   "cell_type": "code",
   "execution_count": null,
   "metadata": {},
   "outputs": [],
   "source": []
  },
  {
   "cell_type": "code",
   "execution_count": null,
   "metadata": {},
   "outputs": [],
   "source": []
  },
  {
   "cell_type": "code",
   "execution_count": null,
   "metadata": {},
   "outputs": [],
   "source": []
  },
  {
   "cell_type": "code",
   "execution_count": null,
   "metadata": {},
   "outputs": [],
   "source": []
  }
 ],
 "metadata": {
  "kernelspec": {
   "display_name": "Python 3",
   "language": "python",
   "name": "python3"
  },
  "language_info": {
   "codemirror_mode": {
    "name": "ipython",
    "version": 3
   },
   "file_extension": ".py",
   "mimetype": "text/x-python",
   "name": "python",
   "nbconvert_exporter": "python",
   "pygments_lexer": "ipython3",
   "version": "3.7.3"
  },
  "varInspector": {
   "cols": {
    "lenName": 16,
    "lenType": 16,
    "lenVar": 40
   },
   "kernels_config": {
    "python": {
     "delete_cmd_postfix": "",
     "delete_cmd_prefix": "del ",
     "library": "var_list.py",
     "varRefreshCmd": "print(var_dic_list())"
    },
    "r": {
     "delete_cmd_postfix": ") ",
     "delete_cmd_prefix": "rm(",
     "library": "var_list.r",
     "varRefreshCmd": "cat(var_dic_list()) "
    }
   },
   "types_to_exclude": [
    "module",
    "function",
    "builtin_function_or_method",
    "instance",
    "_Feature"
   ],
   "window_display": false
  }
 },
 "nbformat": 4,
 "nbformat_minor": 2
}
