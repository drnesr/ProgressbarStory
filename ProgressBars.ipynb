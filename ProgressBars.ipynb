{
 "cells": [
  {
   "cell_type": "code",
   "execution_count": 107,
   "metadata": {
    "ExecuteTime": {
     "end_time": "2019-04-29T13:38:04.104992Z",
     "start_time": "2019-04-29T13:38:04.099008Z"
    }
   },
   "outputs": [],
   "source": [
    "from time import sleep\n",
    "from ipywidgets import FloatProgress\n",
    "from tqdm import tnrange, tqdm_notebook\n",
    "from IPython.display import display, clear_output\n",
    "from matplotlib import pyplot as plt\n",
    "from math import ceil\n",
    "%matplotlib inline"
   ]
  },
  {
   "cell_type": "code",
   "execution_count": 12,
   "metadata": {
    "ExecuteTime": {
     "end_time": "2019-04-29T11:50:20.902615Z",
     "start_time": "2019-04-29T11:50:20.898626Z"
    }
   },
   "outputs": [
    {
     "data": {
      "text/plain": [
       "'∎'"
      ]
     },
     "execution_count": 12,
     "metadata": {},
     "output_type": "execute_result"
    }
   ],
   "source": [
    "chr(8718)"
   ]
  },
  {
   "cell_type": "code",
   "execution_count": 24,
   "metadata": {
    "ExecuteTime": {
     "end_time": "2019-04-29T12:00:25.423004Z",
     "start_time": "2019-04-29T12:00:25.416022Z"
    }
   },
   "outputs": [
    {
     "data": {
      "text/plain": [
       "[('░', 9617),\n",
       " ('∎', 8718),\n",
       " ('▒', 9618),\n",
       " ('▓', 9619),\n",
       " ('█', 9608),\n",
       " ('□', 9633),\n",
       " ('■', 9632),\n",
       " ('▬', 9644),\n",
       " ('▭', 9645),\n",
       " ('▮', 9646),\n",
       " ('▯', 9647),\n",
       " ('⬛', 11035),\n",
       " ('⬜', 11036)]"
      ]
     },
     "execution_count": 24,
     "metadata": {},
     "output_type": "execute_result"
    }
   ],
   "source": [
    "[(x, ord(x))\n",
    " for x in ('░', '∎', '▒', '▓', '█', '□', '■', '▬', '▭', '▮', '▯', '⬛', '⬜')]"
   ]
  },
  {
   "cell_type": "code",
   "execution_count": 45,
   "metadata": {
    "ExecuteTime": {
     "end_time": "2019-04-29T12:15:52.151081Z",
     "start_time": "2019-04-29T12:15:52.141106Z"
    }
   },
   "outputs": [
    {
     "name": "stdout",
     "output_type": "stream",
     "text": [
      "▮▮▮▮▮▮▮▮▮▮▯▯▯▯▯▯▯▯▯▯▯▯▯▯▯▯▯▯▯▯▯▯▯▯▯▯▯▯▯▯▯▯▯▯▯▯▯▯▯▯ 20%\n",
      "▓▓▓▓▓▓▓▓▓▓░░░░░░░░░░░░░░░░░░░░░░░░░░░░░░░░░░░░░░░░ 20%\n",
      "■■■■■■■■■■□□□□□□□□□□□□□□□□□□□□□□□□□□□□□□□□□□□□□□□□ 20%\n",
      "⬛⬛⬛⬛⬛⬛⬛⬛⬛⬛⬜⬜⬜⬜⬜⬜⬜⬜⬜⬜⬜⬜⬜⬜⬜⬜⬜⬜⬜⬜⬜⬜⬜⬜⬜⬜⬜⬜⬜⬜⬜⬜⬜⬜⬜⬜⬜⬜⬜⬜ 20%\n"
     ]
    }
   ],
   "source": [
    "empty, full = chr(9647), chr(9646)\n",
    "print(full *10 + empty*40 +' 20%')\n",
    "empty, full = chr(9617), chr(9619)\n",
    "print(full *10 + empty*40 +' 20%')\n",
    "empty, full = chr(9633), chr(9632)\n",
    "print(full *10 + empty*40 +' 20%')\n",
    "empty, full = chr(11036), chr(11035)\n",
    "print(full *10 + empty*40 +' 20%')"
   ]
  },
  {
   "cell_type": "code",
   "execution_count": 43,
   "metadata": {
    "ExecuteTime": {
     "end_time": "2019-04-29T12:12:53.411574Z",
     "start_time": "2019-04-29T12:12:52.206775Z"
    }
   },
   "outputs": [
    {
     "data": {
      "text/plain": [
       "'■■■■■■■■■■■■■■■■■■■■■■■■■■■■■■■■■■■■■■■■■■■■■■■■■■■ 100%'"
      ]
     },
     "metadata": {},
     "output_type": "display_data"
    }
   ],
   "source": [
    "progress_max = 50 \n",
    "operation_max = 100\n",
    "for i in range(operation_max+1):\n",
    "    progress = int(i*progress_max/operation_max)+1\n",
    "    display(full*progress + empty * (progress_max-progress) + f' {i}%')\n",
    "    sleep(0.01)\n",
    "    clear_output(wait=True)"
   ]
  },
  {
   "cell_type": "code",
   "execution_count": 142,
   "metadata": {
    "ExecuteTime": {
     "end_time": "2019-04-29T14:25:52.405658Z",
     "start_time": "2019-04-29T14:25:52.394688Z"
    }
   },
   "outputs": [],
   "source": [
    "class ProgressBar:\n",
    "    def __init__(\n",
    "            self,\n",
    "            operation_max,\n",
    "            progress_max=50,\n",
    "            theme=0,\n",
    "            message=None,\n",
    "            show_percent=True,\n",
    "            initial_value=0,\n",
    "            independent=True,\n",
    "    ):\n",
    "        themes = {\n",
    "            0: (9633, 9632),\n",
    "            1: (9617, 9619),\n",
    "            2: (9647, 9646),\n",
    "            3: (11036, 11035)\n",
    "        }\n",
    "        self.empty, self.full = chr(themes[theme][0]), chr(themes[theme][1])\n",
    "        self.initial_value = initial_value\n",
    "        self.operation_max = operation_max\n",
    "        self.progress_max = progress_max\n",
    "        self.independent = independent\n",
    "        self.show_percent = show_percent\n",
    "        self.bar_sketch = ''\n",
    "        self.other_bars = None\n",
    "        if message is None:\n",
    "            self.message = ''\n",
    "        else:\n",
    "            self.message = message + ' '\n",
    "\n",
    "        # initialize and show\n",
    "        progress = int(initial_value * progress_max / operation_max) + 1\n",
    "        self.update(initial_value)\n",
    "\n",
    "    def update(self, value, other_bars=None, clear=True):\n",
    "        # to avoid negatives\n",
    "        value = abs(value)  #+ 2\n",
    "        # to avoid excess values\n",
    "        progress = min(self.progress_max,\n",
    "                       ceil(value * self.progress_max / self.operation_max))\n",
    "        percent = min(100, ceil(value/ self.operation_max*100))\n",
    "        self.bar_sketch = self.message + self.full * progress + \\\n",
    "                self.empty * (self.progress_max - progress) + \\\n",
    "                f' {percent}%'\n",
    "\n",
    "        if type(other_bars) in [list, tuple]:\n",
    "            self.other_bars = other_bars\n",
    "        elif type(other_bars) == str:\n",
    "            self.other_bars = [other_bars]\n",
    "        else:\n",
    "            self.other_bars = None\n",
    "\n",
    "        if self.independent:\n",
    "            self.clear = clear\n",
    "            self.draw()\n",
    "        else:\n",
    "            return self.bar_sketch\n",
    "\n",
    "    def draw(self):\n",
    "        # if self.independent:\n",
    "        display(self.bar_sketch)\n",
    "        if self.other_bars is not None:\n",
    "            for bar in self.other_bars:\n",
    "                display(bar)\n",
    "        if self.clear:\n",
    "            clear_output(wait=True)"
   ]
  },
  {
   "cell_type": "code",
   "execution_count": 137,
   "metadata": {
    "ExecuteTime": {
     "end_time": "2019-04-29T14:23:18.843496Z",
     "start_time": "2019-04-29T14:23:18.712845Z"
    }
   },
   "outputs": [
    {
     "data": {
      "text/plain": [
       "'My operation ■■■■■■■■■■■■■■■■■■■■■■■■■■■■■■■■■■■■■■■■■■■■■■■■■■ 100%'"
      ]
     },
     "metadata": {},
     "output_type": "display_data"
    }
   ],
   "source": [
    "pb = ProgressBar(100, message='My operation')\n",
    "for i in range(101):\n",
    "    pb.update(i)"
   ]
  },
  {
   "cell_type": "code",
   "execution_count": 138,
   "metadata": {
    "ExecuteTime": {
     "end_time": "2019-04-29T14:23:20.107115Z",
     "start_time": "2019-04-29T14:23:20.024337Z"
    }
   },
   "outputs": [
    {
     "data": {
      "text/plain": [
       "'My operation ■■■■■■■■■■■■■■■■■■■■■■■■■■■■■■■■■■■■■■■■■■■■■■■■■■ 100%'"
      ]
     },
     "metadata": {},
     "output_type": "display_data"
    }
   ],
   "source": [
    "pb = ProgressBar(50, message='My operation')\n",
    "for i in range(51):\n",
    "    pb.update(i)"
   ]
  },
  {
   "cell_type": "code",
   "execution_count": 90,
   "metadata": {
    "ExecuteTime": {
     "end_time": "2019-04-29T13:27:51.260634Z",
     "start_time": "2019-04-29T13:27:51.255644Z"
    }
   },
   "outputs": [],
   "source": [
    "# pb = ProgressBar(50, message='My operation')\n",
    "# pb2 = ProgressBar(50, message='My operation2')\n",
    "\n",
    "# for i in range(50):\n",
    "#     pb.update(i)\n",
    "#     for j in range(50):\n",
    "#         pb2.update(j, clear=False)"
   ]
  },
  {
   "cell_type": "code",
   "execution_count": 124,
   "metadata": {
    "ExecuteTime": {
     "end_time": "2019-04-29T13:48:01.255384Z",
     "start_time": "2019-04-29T13:48:01.250397Z"
    }
   },
   "outputs": [
    {
     "data": {
      "text/plain": [
       "'My operation □□□□□□□□□□□□□□□□□□□□□□□□□□□□□□□□□□□□□□□□□□□□□□□□□□ 0%'"
      ]
     },
     "metadata": {},
     "output_type": "display_data"
    }
   ],
   "source": [
    "pb = ProgressBar(50, message='My operation')"
   ]
  },
  {
   "cell_type": "code",
   "execution_count": 145,
   "metadata": {
    "ExecuteTime": {
     "end_time": "2019-04-29T14:26:12.294470Z",
     "start_time": "2019-04-29T14:26:12.281484Z"
    }
   },
   "outputs": [
    {
     "name": "stdout",
     "output_type": "stream",
     "text": [
      "My Double operation □□□□□□□□□□□□□□□□□□□□□□□□□□□□□□□□□□□□□□□□□□□□□□□□□□ 0%\n",
      "My Double operation ■■■■■□□□□□□□□□□□□□□□□□□□□□□□□□□□□□□□□□□□□□□□□□□□□□ 10%\n",
      "My Double operation ■■■■■■■■■■□□□□□□□□□□□□□□□□□□□□□□□□□□□□□□□□□□□□□□□□ 20%\n",
      "My Double operation ■■■■■■■■■■■■■■■□□□□□□□□□□□□□□□□□□□□□□□□□□□□□□□□□□□ 30%\n",
      "My Double operation ■■■■■■■■■■■■■■■■■■■■□□□□□□□□□□□□□□□□□□□□□□□□□□□□□□ 40%\n",
      "My Double operation ■■■■■■■■■■■■■■■■■■■■■■■■■□□□□□□□□□□□□□□□□□□□□□□□□□ 50%\n",
      "My Double operation ■■■■■■■■■■■■■■■■■■■■■■■■■■■■■■□□□□□□□□□□□□□□□□□□□□ 60%\n",
      "My Double operation ■■■■■■■■■■■■■■■■■■■■■■■■■■■■■■■■■■■□□□□□□□□□□□□□□□ 70%\n",
      "My Double operation ■■■■■■■■■■■■■■■■■■■■■■■■■■■■■■■■■■■■■■■■□□□□□□□□□□ 80%\n",
      "My Double operation ■■■■■■■■■■■■■■■■■■■■■■■■■■■■■■■■■■■■■■■■■■■■■□□□□□ 90%\n",
      "My Double operation ■■■■■■■■■■■■■■■■■■■■■■■■■■■■■■■■■■■■■■■■■■■■■■■■■■ 100%\n"
     ]
    }
   ],
   "source": [
    "pb3 = ProgressBar(10, message='My Double operation', independent=False)\n",
    "for i in range(11):\n",
    "    print(pb3.update(i))"
   ]
  },
  {
   "cell_type": "code",
   "execution_count": 149,
   "metadata": {
    "ExecuteTime": {
     "end_time": "2019-04-29T14:30:22.375385Z",
     "start_time": "2019-04-29T14:30:21.903647Z"
    }
   },
   "outputs": [
    {
     "data": {
      "text/plain": [
       "'My main operation ■■■■■■■■■■■■■■■■■■■■■■■■■■■■■■■■■■■■■■■■■■■■■■■■■■ 100%'"
      ]
     },
     "metadata": {},
     "output_type": "display_data"
    },
    {
     "data": {
      "text/plain": [
       "'My  sub operation ■■■■■■■■■■■■■■■■■■■■■■■■■■■■■■■■■■■■■■■■■■■■■■■■■■ 100%'"
      ]
     },
     "metadata": {},
     "output_type": "display_data"
    }
   ],
   "source": [
    "pb_main = ProgressBar(20, message='My main operation')\n",
    "pb_sub1 = ProgressBar(10, message=' My sub operation', independent=False)\n",
    "for i in range(21):\n",
    "    for j in range(11):\n",
    "        pb_main.update(i, other_bars = pb_sub1.update(j))"
   ]
  },
  {
   "cell_type": "code",
   "execution_count": 154,
   "metadata": {
    "ExecuteTime": {
     "end_time": "2019-04-29T14:37:44.638161Z",
     "start_time": "2019-04-29T14:37:23.287283Z"
    }
   },
   "outputs": [
    {
     "data": {
      "text/plain": [
       "'My main operation ■■■■■■■■■■■■■■■■■■■■■■■■■■■■■■■■■■■■■■■■□□□□□□□□□□ 80%'"
      ]
     },
     "metadata": {},
     "output_type": "display_data"
    },
    {
     "data": {
      "text/plain": [
       "' My sub operation ■■■■■■■■■■■■■■■■■■■■■■■■■■■■■■■■■■■■■■■■■■■■■□□□□□ 90%'"
      ]
     },
     "metadata": {},
     "output_type": "display_data"
    },
    {
     "data": {
      "text/plain": [
       "'sub sub operation ■■■■■■■■■■■■■■■■■■■■■■■■■■■■■■■■■■■■■■■■■■■■□□□□□□ 88%'"
      ]
     },
     "metadata": {},
     "output_type": "display_data"
    }
   ],
   "source": [
    "pb_main = ProgressBar(5, message='My main operation')\n",
    "pb_sub1 = ProgressBar(10, message=' My sub operation', independent=False)\n",
    "pb_sub2 = ProgressBar(8, message='sub sub operation', independent=False)\n",
    "for i in range(5):\n",
    "    for j in range(10):\n",
    "        for k in range(8):\n",
    "            pb_main.update(\n",
    "                i, other_bars=[pb_sub1.update(j),\n",
    "                               pb_sub2.update(k)])\n",
    "            sleep(0.05)"
   ]
  },
  {
   "cell_type": "code",
   "execution_count": null,
   "metadata": {},
   "outputs": [],
   "source": []
  }
 ],
 "metadata": {
  "kernelspec": {
   "display_name": "Python 3",
   "language": "python",
   "name": "python3"
  },
  "language_info": {
   "codemirror_mode": {
    "name": "ipython",
    "version": 3
   },
   "file_extension": ".py",
   "mimetype": "text/x-python",
   "name": "python",
   "nbconvert_exporter": "python",
   "pygments_lexer": "ipython3",
   "version": "3.7.3"
  },
  "varInspector": {
   "cols": {
    "lenName": 16,
    "lenType": 16,
    "lenVar": 40
   },
   "kernels_config": {
    "python": {
     "delete_cmd_postfix": "",
     "delete_cmd_prefix": "del ",
     "library": "var_list.py",
     "varRefreshCmd": "print(var_dic_list())"
    },
    "r": {
     "delete_cmd_postfix": ") ",
     "delete_cmd_prefix": "rm(",
     "library": "var_list.r",
     "varRefreshCmd": "cat(var_dic_list()) "
    }
   },
   "types_to_exclude": [
    "module",
    "function",
    "builtin_function_or_method",
    "instance",
    "_Feature"
   ],
   "window_display": false
  }
 },
 "nbformat": 4,
 "nbformat_minor": 2
}
